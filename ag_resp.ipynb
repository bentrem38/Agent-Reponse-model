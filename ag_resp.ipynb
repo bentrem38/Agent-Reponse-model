{
 "cells": [
  {
   "cell_type": "code",
   "execution_count": null,
   "metadata": {},
   "outputs": [],
   "source": [
    "from transformers import T5ForConditionalGeneration, AutoTokenizer, TrainingArguments, Trainer, EarlyStoppingCallback\n",
    "from datasets import load_dataset, Dataset, DatasetDict\n",
    "import re\n",
    "import torch\n",
    "from evaluate import load\n",
    "from tqdm import tqdm\n",
    "import numpy as np\n",
    "from evaluate import load\n",
    "import pandas as pd"
   ]
  },
  {
   "cell_type": "code",
   "execution_count": null,
   "metadata": {},
   "outputs": [],
   "source": [
    "# ------------------------\n",
    "# 1. Install Required Libraries\n",
    "# ------------------------\n",
    "#!pip install torch==2.5.1 torchvision==0.20.1 torchaudio==2.5.1 --index-url https://download.pytorch.org/whl/cu124\n",
    "#!pip install transformers datasets evaluate -q\n",
    "#!pip install tqdm numpy\n",
    "#!pip install rouge_score"
   ]
  },
  {
   "cell_type": "code",
   "execution_count": 24,
   "metadata": {},
   "outputs": [
    {
     "name": "stdout",
     "output_type": "stream",
     "text": [
      "1000\n",
      "DatasetDict({\n",
      "    train: Dataset({\n",
      "        features: ['text'],\n",
      "        num_rows: 800\n",
      "    })\n",
      "    validation: Dataset({\n",
      "        features: ['text'],\n",
      "        num_rows: 100\n",
      "    })\n",
      "    test: Dataset({\n",
      "        features: ['text'],\n",
      "        num_rows: 100\n",
      "    })\n",
      "})\n"
     ]
    }
   ],
   "source": [
    "# ------------------------------------------------------------------------\n",
    "# 2. Load Dataset \n",
    "# ------------------------------------------------------------------------\n",
    "from datasets import load_dataset\n",
    "\n",
    "# Load the dataset\n",
    "dataset = load_dataset(\"urvog/llama2_transcripts_healthcare_callcenter\")\n",
    "print(len(dataset[\"train\"][\"text\"]))\n",
    "train_set = dataset[\"train\"].select(range(0, 800))        \n",
    "validation_set = dataset[\"train\"].select(range(800, 900)) \n",
    "test_set = dataset[\"train\"].select(range(900, 1000))       \n",
    "\n",
    "\n",
    "split_dataset = DatasetDict({\n",
    "    \"train\": train_set,\n",
    "    \"validation\": validation_set,\n",
    "    \"test\": test_set\n",
    "})\n",
    "\n",
    "\n",
    "print(split_dataset)"
   ]
  },
  {
   "cell_type": "code",
   "execution_count": 25,
   "metadata": {},
   "outputs": [
    {
     "data": {
      "text/plain": [
       "Embedding(32101, 768)"
      ]
     },
     "execution_count": 25,
     "metadata": {},
     "output_type": "execute_result"
    }
   ],
   "source": [
    "#print(dataset)\n",
    "\n",
    "# ------------------------------------------------------------------------\n",
    "# 3. Load Pre-trained Model & Tokenizer\n",
    "# ------------------------------------------------------------------------\n",
    "\n",
    "model_checkpoint = \"google/flan-t5-base\"\n",
    "model = T5ForConditionalGeneration.from_pretrained(model_checkpoint)\n",
    "\n",
    "tokenizer = AutoTokenizer.from_pretrained(model_checkpoint)\n",
    "tokenizer.add_tokens([\"<MASK>\"]) #add <MASK> token to tokenizer\n",
    "\n",
    "model.resize_token_embeddings(len(tokenizer))"
   ]
  },
  {
   "cell_type": "code",
   "execution_count": null,
   "metadata": {},
   "outputs": [
    {
     "name": "stdout",
     "output_type": "stream",
     "text": [
      "Processed 50 examples from validation\n",
      "Processed 100 examples from validation\n",
      "validation — Successfully masked: 95, Skipped: 5\n",
      "Processed 50 examples from test\n",
      "Processed 100 examples from test\n",
      "test — Successfully masked: 95, Skipped: 5\n",
      "Processed 50 examples from train\n",
      "Processed 100 examples from train\n",
      "Processed 150 examples from train\n",
      "Processed 200 examples from train\n",
      "Processed 250 examples from train\n",
      "Processed 300 examples from train\n",
      "Processed 350 examples from train\n",
      "Processed 400 examples from train\n",
      "Processed 450 examples from train\n",
      "Processed 500 examples from train\n",
      "Processed 550 examples from train\n",
      "Processed 600 examples from train\n",
      "Processed 650 examples from train\n",
      "Processed 700 examples from train\n",
      "Processed 750 examples from train\n",
      "Processed 800 examples from train\n",
      "train — Successfully masked: 766, Skipped: 34\n"
     ]
    }
   ],
   "source": [
    "\n",
    "# ------------------------------------------------------------------------\n",
    "# 3. Mask the 3rd-agent responses in the datasets\n",
    "# ------------------------------------------------------------------------\n",
    "\n",
    "def mask_dataset(dataset, datatype):\n",
    "    # Set max index based on split size\n",
    "    if datatype == \"test\" or datatype == \"validation\":\n",
    "        max = 99\n",
    "    elif datatype == \"train\":\n",
    "        max = 799\n",
    "    else:\n",
    "        raise ValueError(f\"Unknown datatype: {datatype}\")\n",
    "        \n",
    "    processed_methods = []\n",
    "    processed_targets = []\n",
    "    i = 0\n",
    "\n",
    "    # Track success/failure\n",
    "    yes = 0\n",
    "    no = 0\n",
    "\n",
    "    # Loop through the dataset and apply masking\n",
    "    while i <= max:\n",
    "        if (i + 1) % 50 == 0:\n",
    "            print(f\"Processed {i + 1} examples from {datatype}\")\n",
    "\n",
    "        # Get original transcript\n",
    "        full_transcript = dataset[datatype]['text'][i]\n",
    "\n",
    "        # Flatten the transcript (remove newlines and extra whitespace)\n",
    "        flattened = \" \".join(full_transcript.split())\n",
    "\n",
    "        # Find all Agent responses using regex\n",
    "        agent_responses = re.findall(r\"Agent \\d+: (.*?)(?=Customer:|Agent \\d+:|$)\", flattened)\n",
    "\n",
    "        if len(agent_responses) >= 3:\n",
    "            target = agent_responses[2].strip()\n",
    "            masked = flattened.replace(target, \"<MASK>\", 2)\n",
    "\n",
    "            processed_methods.append(masked)\n",
    "            processed_targets.append(target)\n",
    "            yes += 1\n",
    "        else:\n",
    "            no += 1 \n",
    "\n",
    "        i += 1\n",
    "\n",
    "    print(f\"{datatype} — Successfully masked: {yes}, Skipped: {no}\")\n",
    "    return {\n",
    "        \"processed_method\": processed_methods,\n",
    "        \"target_block\": processed_targets\n",
    "    }\n",
    "valid = mask_dataset(split_dataset, \"validation\")\n",
    "test = mask_dataset(split_dataset, \"test\")\n",
    "train = mask_dataset(split_dataset, \"train\")"
   ]
  },
  {
   "cell_type": "code",
   "execution_count": 27,
   "metadata": {},
   "outputs": [
    {
     "name": "stdout",
     "output_type": "stream",
     "text": [
      "<s>[INST] Classify the following call transcript: Agent 3: Thank you for calling HealthHarbor, my name is Agent 3. How can I assist you today? Customer: Hi Agent 3, my name is Emma Johnson. I've been experiencing some symptoms lately and I wanted to seek medical advice or get a symptom assessment. Agent 3: I'm sorry to hear that, Emma. I'll do my best to help you. Can you please describe the symptoms you've been experiencing? Customer: Sure. I've been having a persistent headache for the past few days, and it's been accompanied by dizziness and occasional nausea. I'm not sure what could be causing it. Agent 3: <MASK> Customer: No major lifestyle changes, but I have noticed that my vision seems a bit blurry at times. And I've been feeling more fatigued than usual. Agent 3: Thank you for sharing that information, Emma. Blurry vision and fatigue can also be related to your symptoms. It's important to consider all these factors for a proper assessment. Based on your symptoms, I would recommend consulting with a healthcare professional. They will be able to conduct a thorough examination and provide a more accurate diagnosis. Customer: I was hoping to get some advice before scheduling a doctor's appointment. Is there anything I can do to relieve these symptoms in the meantime? Agent 3: While I'm not a doctor, I can offer some general suggestions. You could try applying a cold or warm compress to your forehead to see if it helps with the headache. It's also important to stay hydrated and get enough rest. However, it's crucial to understand that these measures may not address the underlying cause of your symptoms. A medical professional will be able to provide a more targeted approach. Customer: I understand. I'll make sure to schedule an appointment with a doctor as soon as possible. Thank you for your advice. Agent 3: You're welcome, Emma. It's always better to be safe and have a professional evaluation. Is there anything else I can assist you with today? Customer: No, that's all for now. Thank you for your help, Agent 3. Agent 3: You're welcome, Emma. I hope you feel better soon. If you have any more questions or concerns, don't hesitate to reach out. Take care! Customer: Thank you, Agent 3. Have a great day! Agent 3: You too, Emma. Goodbye! [/INST] Medical Advice or Symptom Assessment </s>\n",
      "I understand your concern, Emma. Headaches can have various causes. Have you experienced any recent changes in your lifestyle or any other symptoms besides the headache, dizziness, and nausea?\n"
     ]
    }
   ],
   "source": [
    "print(train[\"processed_method\"][0])\n",
    "print(train[\"target_block\"][0])\n",
    "#print(train)"
   ]
  },
  {
   "cell_type": "code",
   "execution_count": 29,
   "metadata": {},
   "outputs": [
    {
     "name": "stderr",
     "output_type": "stream",
     "text": [
      "Map: 100%|██████████| 766/766 [00:00<00:00, 1854.91 examples/s]\n",
      "Map: 100%|██████████| 95/95 [00:00<00:00, 2064.68 examples/s]\n",
      "Map: 100%|██████████| 95/95 [00:00<00:00, 1978.72 examples/s]\n"
     ]
    }
   ],
   "source": [
    "\n",
    "# ------------------------------------------------------------------------------------------------\n",
    "# 4. We prepare now the fine-tuning dataset using the tokenizer we preloaded\n",
    "# ------------------------------------------------------------------------------------------------\n",
    "\n",
    "def preprocess_function(dataset):\n",
    "    inputs = dataset[\"processed_method\"]\n",
    "    targets = dataset[\"target_block\"]\n",
    "    model_inputs = tokenizer(inputs, max_length=256, truncation=True, padding=\"max_length\")\n",
    "    labels = tokenizer(targets, max_length=256, truncation=True, padding=\"max_length\")\n",
    "    model_inputs[\"labels\"] = labels[\"input_ids\"]\n",
    "    return model_inputs\n",
    "\n",
    "\n",
    "train = Dataset.from_dict(train)\n",
    "valid = Dataset.from_dict(valid)\n",
    "test = Dataset.from_dict(test)\n",
    "train = train.map(preprocess_function, batched=True)\n",
    "valid = valid.map(preprocess_function, batched = True)\n",
    "test = test.map(preprocess_function, batched = True)\n",
    "#print(valid)\n",
    "#print(train)\n",
    "#print(test)\n"
   ]
  },
  {
   "cell_type": "code",
   "execution_count": 30,
   "metadata": {},
   "outputs": [
    {
     "name": "stderr",
     "output_type": "stream",
     "text": [
      "C:\\Users\\bentr\\AppData\\Local\\Temp\\ipykernel_21292\\1982947724.py:25: FutureWarning: `tokenizer` is deprecated and will be removed in version 5.0.0 for `Trainer.__init__`. Use `processing_class` instead.\n",
      "  trainer = Trainer(\n"
     ]
    }
   ],
   "source": [
    "# ------------------------------------------------------------------------\n",
    "# 5. Define Training Arguments and Trainer\n",
    "# ------------------------------------------------------------------------\n",
    "\n",
    "\n",
    "training_args = TrainingArguments(\n",
    "    output_dir=\".google/flan-t5-base\",\n",
    "    eval_strategy=\"epoch\",\n",
    "    save_strategy=\"epoch\",\n",
    "    logging_dir=\"./logs\",\n",
    "    learning_rate=5e-5,\n",
    "    per_device_train_batch_size=2,\n",
    "    per_device_eval_batch_size=2,\n",
    "    num_train_epochs=10,\n",
    "    weight_decay=0.01,\n",
    "    load_best_model_at_end=True,\n",
    "    metric_for_best_model=\"eval_loss\",\n",
    "    save_total_limit=2,\n",
    "    logging_steps=100,\n",
    "    push_to_hub=False,\n",
    ")\n",
    "\n",
    "\n",
    "\n",
    "trainer = Trainer(\n",
    "    model=model,\n",
    "    args=training_args,\n",
    "    train_dataset=train,\n",
    "    eval_dataset=valid,\n",
    "    tokenizer=tokenizer,\n",
    "    callbacks=[EarlyStoppingCallback(early_stopping_patience=2)]\n",
    ")\n"
   ]
  },
  {
   "cell_type": "code",
   "execution_count": 48,
   "metadata": {},
   "outputs": [
    {
     "name": "stderr",
     "output_type": "stream",
     "text": [
      "100%|██████████| 12/12 [00:22<00:00,  1.90s/it]\n"
     ]
    }
   ],
   "source": [
    "\n",
    "model2 = model.to('cuda')\n",
    "model2.eval()\n",
    "\n",
    "all_inputs_untrained = test[\"processed_method\"]\n",
    "batch_size = 8  \n",
    "decoded_outputs = []\n",
    "# ------------------------------------------------------------------------\n",
    "# 8. Run the model generation in batches in order to run code without memory errors\n",
    "# ------------------------------------------------------------------------\n",
    "\n",
    "for i in tqdm(range(0, len(all_inputs_untrained), batch_size)):\n",
    "    batch = all_inputs_untrained[i:i+batch_size]\n",
    "\n",
    "    # Tokenize batch\n",
    "    inputs = tokenizer(batch, return_tensors=\"pt\", padding=True, truncation=True, max_length=512)\n",
    "    inputs = {k: v.to('cuda') for k, v in inputs.items()}\n",
    "\n",
    "    with torch.no_grad():\n",
    "        outputs_untrained = model2.generate(**inputs, max_length=256)\n",
    "\n",
    "    # Decode each output\n",
    "    decoded_batch = tokenizer.batch_decode(outputs_untrained, skip_special_tokens=True)\n",
    "    decoded_outputs.extend(decoded_batch)\n",
    "    outputs_untrained = decoded_outputs"
   ]
  },
  {
   "cell_type": "code",
   "execution_count": 40,
   "metadata": {},
   "outputs": [
    {
     "name": "stdout",
     "output_type": "stream",
     "text": [
      "95\n"
     ]
    }
   ],
   "source": [
    "print(len(outputs_untrained))"
   ]
  },
  {
   "cell_type": "code",
   "execution_count": 66,
   "metadata": {},
   "outputs": [
    {
     "data": {
      "text/html": [
       "\n",
       "    <div>\n",
       "      \n",
       "      <progress value='1915' max='3830' style='width:300px; height:20px; vertical-align: middle;'></progress>\n",
       "      [1915/3830 09:33 < 09:34, 3.33 it/s, Epoch 5/10]\n",
       "    </div>\n",
       "    <table border=\"1\" class=\"dataframe\">\n",
       "  <thead>\n",
       " <tr style=\"text-align: left;\">\n",
       "      <th>Epoch</th>\n",
       "      <th>Training Loss</th>\n",
       "      <th>Validation Loss</th>\n",
       "    </tr>\n",
       "  </thead>\n",
       "  <tbody>\n",
       "    <tr>\n",
       "      <td>1</td>\n",
       "      <td>0.094700</td>\n",
       "      <td>0.111950</td>\n",
       "    </tr>\n",
       "    <tr>\n",
       "      <td>2</td>\n",
       "      <td>0.082600</td>\n",
       "      <td>0.110143</td>\n",
       "    </tr>\n",
       "    <tr>\n",
       "      <td>3</td>\n",
       "      <td>0.079200</td>\n",
       "      <td>0.109998</td>\n",
       "    </tr>\n",
       "    <tr>\n",
       "      <td>4</td>\n",
       "      <td>0.068600</td>\n",
       "      <td>0.114833</td>\n",
       "    </tr>\n",
       "    <tr>\n",
       "      <td>5</td>\n",
       "      <td>0.065000</td>\n",
       "      <td>0.115739</td>\n",
       "    </tr>\n",
       "  </tbody>\n",
       "</table><p>"
      ],
      "text/plain": [
       "<IPython.core.display.HTML object>"
      ]
     },
     "metadata": {},
     "output_type": "display_data"
    },
    {
     "name": "stderr",
     "output_type": "stream",
     "text": [
      "There were missing keys in the checkpoint model loaded: ['encoder.embed_tokens.weight', 'decoder.embed_tokens.weight'].\n"
     ]
    },
    {
     "data": {
      "text/plain": [
       "TrainOutput(global_step=1915, training_loss=0.07693713601513258, metrics={'train_runtime': 574.0438, 'train_samples_per_second': 13.344, 'train_steps_per_second': 6.672, 'total_flos': 1311188342538240.0, 'train_loss': 0.07693713601513258, 'epoch': 5.0})"
      ]
     },
     "execution_count": 66,
     "metadata": {},
     "output_type": "execute_result"
    }
   ],
   "source": [
    "# ------------------------\n",
    "# 6. Train the Model\n",
    "# ------------------------\n",
    "trainer.train()"
   ]
  },
  {
   "cell_type": "code",
   "execution_count": 75,
   "metadata": {},
   "outputs": [
    {
     "data": {
      "text/plain": [
       "('.google/flan-t5-base\\\\tokenizer_config.json',\n",
       " '.google/flan-t5-base\\\\special_tokens_map.json',\n",
       " '.google/flan-t5-base\\\\tokenizer.json')"
      ]
     },
     "execution_count": 75,
     "metadata": {},
     "output_type": "execute_result"
    }
   ],
   "source": [
    "save_path = \".google/flan-t5-base\"\n",
    "\n",
    "# Save model\n",
    "trainer.save_model(save_path)\n",
    "\n",
    "# Save tokenizer\n",
    "tokenizer.save_pretrained(save_path)"
   ]
  },
  {
   "cell_type": "code",
   "execution_count": 41,
   "metadata": {},
   "outputs": [],
   "source": [
    "\n",
    "save_path = \".google/flan-t5-base\"\n",
    "# Load the saved model\n",
    "model = T5ForConditionalGeneration.from_pretrained(save_path)\n",
    "\n",
    "# Load the saved tokenizer\n",
    "tokenizer = AutoTokenizer.from_pretrained(save_path)"
   ]
  },
  {
   "cell_type": "code",
   "execution_count": 42,
   "metadata": {},
   "outputs": [
    {
     "name": "stdout",
     "output_type": "stream",
     "text": [
      "Of course, Sarah. HealthHarbor is a hospital that offers a wide range of medical services. We have specialized doctors, advanced diagnostic tools, and state-of-the-art facilities. If you're experiencing serious symptoms or if it's an emergency, it's best to visit our hospital. However, for general check-ups or less urgent issues, you can consider visiting a clinic.\n",
      "<pad> Of course, Sarah. HealthHarbor is a comprehensive healthcare facility that offers a wide range of medical services. We have departments for general medicine, pediatrics, obstetrics and gynecology, orthopedics, and more. We also have specialized clinics for various conditions such as cardiology, neurology, and oncology.</s>\n"
     ]
    }
   ],
   "source": [
    "\n",
    "# ------------------------\n",
    "# 7. Test Code Translation\n",
    "# ------------------------\n",
    "model2 = model.to('cuda')\n",
    "input_code = test[\"processed_method\"][2]\n",
    "print(test[\"target_block\"][2])\n",
    "inputs = tokenizer(input_code, return_tensors=\"pt\", padding=True, truncation=True)\n",
    "outputs = model2.generate(**inputs.to('cuda'), max_length=256)\n",
    "print(tokenizer.decode(outputs[0]))\n",
    "model2.eval()\n",
    "\n",
    "all_inputs = test[\"processed_method\"]\n",
    "batch_size = 8  \n",
    "decoded_outputs = []"
   ]
  },
  {
   "cell_type": "code",
   "execution_count": 43,
   "metadata": {},
   "outputs": [
    {
     "name": "stderr",
     "output_type": "stream",
     "text": [
      "100%|██████████| 12/12 [00:22<00:00,  1.85s/it]\n"
     ]
    }
   ],
   "source": [
    "\n",
    "# ------------------------------------------------------------------------\n",
    "# 8. Run the model generation in batches in order to run code without memory errors\n",
    "# ------------------------------------------------------------------------\n",
    "\n",
    "for i in tqdm(range(0, len(all_inputs), batch_size)):\n",
    "    batch = all_inputs[i:i+batch_size]\n",
    "\n",
    "    # Tokenize batch\n",
    "    inputs = tokenizer(batch, return_tensors=\"pt\", padding=True, truncation=True, max_length=512)\n",
    "    inputs = {k: v.to('cuda') for k, v in inputs.items()}\n",
    "\n",
    "    with torch.no_grad():\n",
    "        outputs = model2.generate(**inputs, max_length=256)\n",
    "\n",
    "    # Decode each output\n",
    "    decoded_batch = tokenizer.batch_decode(outputs, skip_special_tokens=True)\n",
    "    decoded_outputs.extend(decoded_batch)"
   ]
  },
  {
   "cell_type": "code",
   "execution_count": 44,
   "metadata": {},
   "outputs": [
    {
     "name": "stdout",
     "output_type": "stream",
     "text": [
      "['Thank you, Mr. Smith. How can I assist you with your insurance and billing inquiries today?', 'Thank you, Sarah. How can I assist you with your medication refills and prescription inquiries today?', 'Of course, Sarah. HealthHarbor is a comprehensive healthcare facility that offers a wide range of medical services. We have departments for general medicine, pediatrics, obstetrics and gynecology, orthopedics, and more. We also have specialized clinics for various conditions such as cardiology, neurology, and oncology.', 'Thank you, Ms. Johnson. How can I assist you with your healthcare provider recommendations?', 'Thank you, Emily. How can I assist you with your medication refills today?', 'Thank you, Emily. How can I assist you with your insurance and billing inquiries today?', 'Thank you, Sarah. Let me pull up your records. How can I assist you with your medication refills today?', 'Thank you, Jessica. Let me check the system for your lab and test results. Please bear with me for a moment. (Customer waits impatiently)', \"Thank you, Emily. Let me pull up your records. While I'm doing that, could you please let me know which specific test results you are concerned about?\", 'Thank you for providing that information, Mr. Smith. Let me check your records in our system. Please bear with me for a moment. (Customer waits for a few moments)', \"I understand your concern, Emily. It's important to address your pain. Let me check our database for a suitable specialist. Have you seen a doctor yet?\", \"Of course, I'm here to help. HealthHarbor is a full-service hospital that offers a wide range of medical services. We have departments for cardiology, neurology, orthopedics, and more. We also have specialized clinics for various conditions.\", \"I'm sorry to hear that you're in pain. Let me check our availability for you. Can you please provide me with your name and contact information?\", 'Thank you for providing that information, John. Now, could you please specify the approximate dates for which you would like to request your medical records?', \"Thank you, Mr. Smith. I'm sorry to hear that you're experiencing difficulties with your medication refills and prescription inquiries. Could you please let me know the reason for your medication refills and prescription inquiries?\", \"I'm sorry to hear that you're feeling angry, Amanda. Let me check your account and see what I can do to assist you. Can you please hold on for a moment? (Customer waits)\", 'HealthHarbor is a comprehensive healthcare facility that offers a wide range of medical services. We have departments for general medicine, pediatrics, obstetrics and gynecology, orthopedics, and more. We also have specialized clinics for cardiology, neurology, and oncology.', 'Thank you, Mr. Smith. How can I assist you specifically?', 'Of course, Emily. We have a team of specialists who can help you with various conditions. Would you like me to schedule an appointment for you?', 'Thank you, Emily. How can I assist you with your medical advice?', 'Of course, Mr. Smith. HealthHarbor is a full-service hospital that offers a wide range of medical services. We have departments for cardiology, neurology, orthopedics, and more. We also have specialized clinics for various conditions such as diabetes, cancer, and mental health.', \"I understand your concern, Emily. It's important to address your symptoms promptly. Have you seen a primary care physician recently?\", 'I understand your concern, Sarah. Knee replacement surgery can be quite traumatic. Have you been following the post-surgery instructions given to you by your surgeon?', 'Thank you, Sarah. Can you please let me know which type of doctor you would like to see?', \"I understand your concern, Sarah. Let me check your records to see if there's any specific reason for your surgery. Can you please provide me with your patient ID or any other identification information?\", \"I understand your concern, Sarah. It's normal to feel worried after a surgery, but it's important to follow the instructions provided by your surgeon. Have you been following the post-operative care plan provided to you?\", 'Thank you, Mr. Smith. Could you please provide me with your date of birth and contact information?', \"I'm sorry to hear that, John. Headaches, dizziness, and blurred vision can be symptoms of various conditions. Have you experienced any other symptoms along with these?\", 'Thank you, Lisa. How can I assist you with your medication refills today?', 'Thank you, Sarah. Can you please verify your address and the last four digits of your social security number?', 'Thank you for providing that information, Mr. Smith. Let me check your records in our system. Can you please verify your address and the last four digits of your social security number?', 'Absolutely, John. HealthHarbor is a comprehensive healthcare facility that offers a wide range of medical services. We have departments for cardiology, neurology, orthopedics, pediatrics, and more. We also have a dedicated emergency department and a surgical unit.', \"Thank you, Emily. I'm sorry to hear that you're feeling scared. How can I assist you with your medical records request?\", 'I understand your concern, Emily. Headaches and dizziness can be quite bothersome. Have you experienced any other symptoms along with these?', 'Thank you, Sarah. How can I assist you with your medication refills and prescription inquiries today?', 'Thank you, Mr. Smith. How can I assist you with referrals and specialist appointments today?', \"Thank you, Mr. Smith. I'm sorry to hear that you're in pain. Let me pull up your medical records and check the effectiveness of your surgery medication. Could you please provide me with your date of birth and patient ID?\", \"I'm sorry to hear that, Emily. Let me check our network for available specialists. Can you please provide me with your insurance provider and the name of the specialist you've recommended?\", 'Absolutely. HealthHarbor is a comprehensive healthcare facility that offers a wide range of medical services. We have departments for emergency care, surgery, maternity care, pediatrics, cardiology, orthopedics, and more. We also have specialized clinics for cardiology, orthopedics, and neurology.', \"I understand your concern, sir. It's important to address your abdominal pain promptly. Let me check our availability for a specialist appointment. Can you please provide me with your full name and contact information?\", 'Thank you, Sarah. How can I assist you today?', 'HealthHarbor is a comprehensive healthcare facility that offers a wide range of medical services. We have departments for general medicine, pediatrics, obstetrics and gynecology, orthopedics, and more. We also have specialized clinics for various conditions such as cardiology, neurology, and oncology.', \"Thank you, John. Let me check your records. I see that you're due for a refill. I apologize for any inconvenience caused. Can you please hold for a moment? [Short pause]\", 'I understand your concern, Emily. Headaches, dizziness, and nausea can be caused by various factors. Have you experienced any recent trauma or injury to your head?', 'Thank you, Mr. Smith. Can you please let me know the reason for your appointment?', 'Thank you for providing that information, Emma. Let me pull up your records. Please bear with me for a moment. (Customer waits for a few moments)', \"I'm sorry to hear that you're feeling that way, Emma. I'm not a doctor, but I can understand your frustration. I'm sorry to hear that you're feeling angry. How can I assist you with your complaint?\", 'Thank you, Emily. Can you please provide me with your date of birth and insurance information?', \"I'm sorry to hear that, Mr. Smith. Let me check your records to see if we have available availability for your follow-up appointment. Can you please provide me with your date of birth?\", 'Thank you, Sarah. I see your file here. How can I assist you with your medical care today?', 'Thank you for providing that information, Sarah. Let me check our system to see if we have your records on file. Please bear with me for a moment. (Customer waits for a few moments)', 'Thank you, Sarah. I see your records here. How can I assist you with your medication refills and prescription inquiries today?', 'Thank you, Sarah. I see that you had a surgery last week. How are you feeling now?', 'Thank you, Emily. How can I help you today?', 'I understand your concern, Sarah. Let me check your insurance policy to see if your insurance covers the costs. Can you please provide me with your insurance policy number?', 'Thank you, Sarah. Could you please provide me with your date of birth and the medications you need refilled?', 'Thank you, Emily. I see your records here. How can I assist you with your medication refills and prescription inquiries?', 'I understand your concern, sir. Headaches can be quite bothersome. Have you consulted with a healthcare professional about your headaches yet?', 'Thank you, Sarah. How can I assist you today?', 'Of course, Lisa. HealthHarbor is a comprehensive healthcare facility that offers a wide range of medical services. We have departments for emergency care, specialty clinics, specialized clinics, and various diagnostic services. We also have a dedicated team of specialists who are dedicated to providing the best possible care to our patients.', 'Thank you, Sarah. How can I assist you with referrals and specialist appointments today?', 'Thank you for providing that information, John. Let me check our system to see if we have your records available. Please bear with me for a moment. (Customer waits for a few moments)', 'Absolutely, Emily. HealthHarbor is a comprehensive healthcare facility that offers a wide range of medical services. We have departments for general medicine, surgery, pediatrics, obstetrics and gynecology, orthopedics, and more. We also have specialized clinics for various conditions such as diabetes, cancer, and mental health.', 'Of course, John. HealthHarbor is a comprehensive healthcare facility that offers a wide range of medical services. We have departments for general medicine, surgery, pediatrics, obstetrics and gynecology, orthopedics, and more. We also have specialized clinics for various conditions such as diabetes, cancer, and mental health.', 'Thank you, Sarah. How can I assist you with your health assessment?', 'Thank you, Emily. How can I assist you with your care management?', 'Absolutely, Sarah. HealthHarbor is a comprehensive healthcare facility that offers a wide range of medical services. We have departments for general medicine, pediatrics, obstetrics, cardiology, orthopedics, and more. We also have specialized departments for neurology, oncology, and oncology.', 'Thank you, Emily. Can you please provide me with your date of birth and your insurance policy number?', \"I understand your concern, Sarah. It's important to see a doctor for your headaches. Have you seen a neurologist before?\", 'HealthHarbor is a comprehensive healthcare facility that offers a wide range of medical services. We have departments for general medicine, surgery, pediatrics, obstetrics and gynecology, orthopedics, and more. We also have specialized clinics for various conditions such as diabetes, cancer, and mental health.', 'Thank you, Emily. How can I assist you with your insurance and billing inquiries today?', 'Absolutely, Mr. Smith. HealthHarbor is a comprehensive healthcare facility that offers a wide range of medical services. We have departments for general medicine, pediatrics, obstetrics and gynecology, orthopedics, and more. We also have specialized clinics for cardiology, neurology, and oncology.', 'Thank you, Sarah. Let me pull up your records. How can I assist you with your recovery concerns?', \"Thank you, Mr. Smith. Could you please provide me with your date of birth and the name of the specialist you're looking to see?\", 'Thank you, Jessica. How can I help you with referrals and specialist appointments today?', 'Thank you, Emily. How can I assist you with your insurance and billing inquiries today?', 'Thank you, Sarah. How can I assist you specifically? What specific information are you looking for?', 'Thank you, Mr. Smith. How can I assist you today?', 'Thank you, Mr. Smith. How can I assist you with referrals and specialist appointments today?', \"I'm sorry to hear that you're feeling that way, Lisa. Let me pull up your records and review them for you. Can you please tell me the reason for your medical records request?\", 'Thank you, Emily. How can I assist you with your insurance and billing inquiries today?', 'Of course, John. Let me check that for you. Can you please provide me with your account number or date of service?', 'Thank you, Sarah. Can you please provide me with your date of birth and the medication you need a refill for?', 'Thank you, Emily. Let me pull up your records. Could you please provide me with the details of the tests you had done?', \"I understand your concern, Jane. It's important to see a neurologist for your migraines. Let me check the availability of our specialists in your area. Can you please provide me with your zip code?\", 'Thank you, Sarah. How can I help you with your medical advice?', 'Of course, Emily. I can assist you with that. Could you please provide me with your date of birth and the name of the doctor you saw?', \"I'm sorry to hear that you're feeling anxious. Let me check the availability of our dermatologists. Can you please tell me what type of specialist you're looking to see?\", \"I'm sorry to hear that, Emily. Let me check your records to see if there's anything specific we can do for you. Can you please provide me with your date of birth and your current location?\", 'I understand your concern, Sarah. Let me check the availability of our blood tests. Can you please provide me with your date of birth and the name of the doctor who ordered the tests?', 'Thank you for providing that information, Emma. Let me check our system for your records. Please bear with me for a moment. (Customer waits for a few moments)', 'Thank you, Emily. I have pulled up your records. How can I assist you with scheduling an appointment?', \"I'm not a doctor, Sarah, but I can certainly help you with that. Have you noticed any other symptoms along with these?\", 'I understand your concern, Emily. Headaches can be caused by various factors. Have you seen a doctor about these headaches?', 'Thank you, Sarah. How can I assist you with your insurance and billing inquiries today?']\n"
     ]
    }
   ],
   "source": [
    "outputs_trained = decoded_outputs\n",
    "print(outputs_trained)"
   ]
  },
  {
   "cell_type": "code",
   "execution_count": 45,
   "metadata": {},
   "outputs": [
    {
     "name": "stdout",
     "output_type": "stream",
     "text": [
      "Thank you, Emily. Let me pull up your account. Okay, I see your information here. How can I assist you today?\n",
      "Prediction: Thank you, Emily. How can I assist you with your insurance and billing inquiries today?\n",
      "Of course, John. I'll be happy to assist you with that. Could you please provide me with your account number or the date of service mentioned on the bill?\n",
      "Prediction: Of course, John. Let me check that for you. Can you please provide me with your account number or date of service?\n",
      "Thank you, Sarah. Could you please provide me with your date of birth and the medication you need a refill for?\n",
      "Prediction: Thank you, Sarah. Can you please provide me with your date of birth and the medication you need a refill for?\n",
      "Thank you, Emily. Let me pull up your file. I see here that you had some lab tests done. Can you please tell me which specific tests were conducted?\n",
      "Prediction: Thank you, Emily. Let me pull up your records. Could you please provide me with the details of the tests you had done?\n",
      "I understand, Jane. Migraines can be quite debilitating. Let me check our system for neurologists in your area who are affiliated with HealthHarbor. Can you please provide me with your zip code?\n",
      "Prediction: I understand your concern, Jane. It's important to see a neurologist for your migraines. Let me check the availability of our specialists in your area. Can you please provide me with your zip code?\n"
     ]
    }
   ],
   "source": [
    "for i in range(5):\n",
    "    print(test[\"target_block\"][i+80])\n",
    "    print(f\"Prediction: {outputs_trained[i+80]}\")"
   ]
  },
  {
   "cell_type": "code",
   "execution_count": null,
   "metadata": {},
   "outputs": [
    {
     "name": "stdout",
     "output_type": "stream",
     "text": [
      "ROUGE Scores:\n",
      "rouge1: 0.633\n",
      "rouge2: 0.4708\n",
      "rougeL: 0.5879\n",
      "rougeLsum: 0.5891\n",
      "Overall ROUGE Score:  0.5701928157335951\n"
     ]
    }
   ],
   "source": [
    "rouge = load(\"rouge\")\n",
    "predictions = decoded_outputs\n",
    "references = test[\"target_block\"]\n",
    "# Calculate the ROUGE scores\n",
    "rouge_scores = rouge.compute(predictions=predictions, references=references, use_stemmer=True)\n",
    "\n",
    "# Print separate ROUGE scores\n",
    "print(\"ROUGE Scores:\")\n",
    "for metric, score in rouge_scores.items():\n",
    "    print(f\"{metric}: {round(score, 4)}\")\n",
    "print(\"Overall ROUGE Score: \", sum(rouge_scores.values()) / len(rouge_scores))"
   ]
  },
  {
   "cell_type": "code",
   "execution_count": 49,
   "metadata": {},
   "outputs": [
    {
     "name": "stdout",
     "output_type": "stream",
     "text": [
      "Saved to results.csv\n"
     ]
    }
   ],
   "source": [
    "df = pd.DataFrame({\n",
    "    \"inputs\": test[\"processed_method\"],\n",
    "    \"target_block\": test[\"target_block\"],\n",
    "    \"untrained_model_predictions\": outputs_untrained,\n",
    "    \"trained_model_predictions\": outputs_trained\n",
    "})\n",
    "\n",
    "# Step 4: Save to CSV\n",
    "df.to_csv(\"results.csv\", index=False)\n",
    "print(\"Saved to results.csv\")"
   ]
  }
 ],
 "metadata": {
  "kernelspec": {
   "display_name": "Python 3",
   "language": "python",
   "name": "python3"
  },
  "language_info": {
   "codemirror_mode": {
    "name": "ipython",
    "version": 3
   },
   "file_extension": ".py",
   "mimetype": "text/x-python",
   "name": "python",
   "nbconvert_exporter": "python",
   "pygments_lexer": "ipython3",
   "version": "3.12.6"
  }
 },
 "nbformat": 4,
 "nbformat_minor": 2
}
